{
 "cells": [
  {
   "cell_type": "code",
   "execution_count": 2,
   "metadata": {},
   "outputs": [],
   "source": [
    "import pandas as pd\n",
    "from os.path import dirname, join\n",
    "import numpy as np"
   ]
  },
  {
   "cell_type": "code",
   "execution_count": 3,
   "metadata": {},
   "outputs": [],
   "source": [
    "# input_dir = 'gs://radiology-impressions/geekfest'\n",
    "input_dir = 'gs://profile-notes/geekfest_files/unlabeled_data/'\n",
    "\n",
    "train_filename = 'train_text_imaging_only.txt'\n",
    "valid_filename = 'valid_text_imaging_only.txt'"
   ]
  },
  {
   "cell_type": "code",
   "execution_count": 4,
   "metadata": {},
   "outputs": [],
   "source": [
    "filename= join(input_dir,valid_filename)"
   ]
  },
  {
   "cell_type": "code",
   "execution_count": 5,
   "metadata": {},
   "outputs": [],
   "source": [
    "valid_data =  pd.read_csv(filename)"
   ]
  },
  {
   "cell_type": "code",
   "execution_count": 6,
   "metadata": {},
   "outputs": [
    {
     "data": {
      "text/html": [
       "<div>\n",
       "<style scoped>\n",
       "    .dataframe tbody tr th:only-of-type {\n",
       "        vertical-align: middle;\n",
       "    }\n",
       "\n",
       "    .dataframe tbody tr th {\n",
       "        vertical-align: top;\n",
       "    }\n",
       "\n",
       "    .dataframe thead th {\n",
       "        text-align: right;\n",
       "    }\n",
       "</style>\n",
       "<table border=\"1\" class=\"dataframe\">\n",
       "  <thead>\n",
       "    <tr style=\"text-align: right;\">\n",
       "      <th></th>\n",
       "      <th>text</th>\n",
       "    </tr>\n",
       "  </thead>\n",
       "  <tbody>\n",
       "    <tr>\n",
       "      <th>0</th>\n",
       "      <td>exam number: a09481858 report status: final ty...</td>\n",
       "    </tr>\n",
       "    <tr>\n",
       "      <th>1</th>\n",
       "      <td>exam number: a07029758 report status: final ty...</td>\n",
       "    </tr>\n",
       "    <tr>\n",
       "      <th>2</th>\n",
       "      <td>exam number: a08201175 report status: final ty...</td>\n",
       "    </tr>\n",
       "    <tr>\n",
       "      <th>3</th>\n",
       "      <td>exam number: a09146288 report status: final ty...</td>\n",
       "    </tr>\n",
       "    <tr>\n",
       "      <th>4</th>\n",
       "      <td>exam number: a10099242 report status: final ty...</td>\n",
       "    </tr>\n",
       "  </tbody>\n",
       "</table>\n",
       "</div>"
      ],
      "text/plain": [
       "                                                text\n",
       "0  exam number: a09481858 report status: final ty...\n",
       "1  exam number: a07029758 report status: final ty...\n",
       "2  exam number: a08201175 report status: final ty...\n",
       "3  exam number: a09146288 report status: final ty...\n",
       "4  exam number: a10099242 report status: final ty..."
      ]
     },
     "execution_count": 6,
     "metadata": {},
     "output_type": "execute_result"
    }
   ],
   "source": [
    "valid_data.head()"
   ]
  },
  {
   "cell_type": "code",
   "execution_count": 7,
   "metadata": {},
   "outputs": [
    {
     "data": {
      "text/plain": [
       "(79504, 1)"
      ]
     },
     "execution_count": 7,
     "metadata": {},
     "output_type": "execute_result"
    }
   ],
   "source": [
    "valid_data.shape"
   ]
  },
  {
   "cell_type": "code",
   "execution_count": 8,
   "metadata": {},
   "outputs": [
    {
     "data": {
      "text/plain": [
       "\"impression: patent right internal jugular vein. successful placement of right internal jugular vein double lumen chest port. this device is power-injectable with an appropriate access needle. the device is ready for use. homecare instructions were reviewed with the patient and all questions were answered. attestation: the procedure was performed by the ir physician assistant. i, matthew p. schenker, md, the supervising physician, was present for the entire procedure. attestation: i, matthew schenker, as supervising physician have reviewed the images, if any, for this patient's exam, and if necessary, have edited the report originally created by matthew goss. reason for procedure (per ehr order): starting treatment additional clinical information obtained from the ehr: 60 year old male with a history of newly diagnosed esophageal cancer. double lumen port requested for chemotherapy administration. procedure: right chest port placement operators: attending: matthew p. schenker, md physician assistant: matthew goss, pa-c medications: antibiotics: cefazolin 2 gm iv. sedation: midazolam 3 mg iv, fentanyl 150 mcg iv. moderate procedural (conscious) sedation was administered and monitored by radiology department nursing staff and supervised by the physician assistant. the following parameters were monitored: oxygen saturation, heart rate, blood pressure and response to care. the physician assistant spent 55 minutes of continuous face-to-face sedation time with the patient. other: ativan 0.5 mg po. contrast: none. guidance: fluoroscopy and ultrasound. patient radiation dose: fluoroscopy time: 0.6 minutes. cumulative dose: 2.96 mgy. device: medcomp 9.5 french polyurethane double lumen dignity ct port (power-injectable, not ethanol compatible), lot #mnbj410s2. technique and findings: informed consent was obtained from the patient. the patient was prepped and draped in a sterile fashion. a safety pause was performed immediately prior to the procedure. the patient's known allergies, current medications and adverse medication reactions were reviewed prior to the procedure. under 2% lidocaine local anesthesia and real-time ultrasound guidance, the right internal jugular vein was entered with a micropuncture set, and a sonographic image archived for the medical record. the intravascular catheter length was measured and a guidewire was advanced into the ivc. an appropriate reservoir site was identified in the right anterior chest wall. the skin was infiltrated with 2% lidocaine with epinephrine local anesthesia and an incision was made. blunt dissection was used to create a reservoir pocket. the pocket was irrigated with polymyxin/bacitracin solution and hemostasis obtained within the pocket. the catheter was tunneled from the reservoir site to the venotomy site. subsequently the reservoir was attached to the catheter, flushed, and found to be leak-free. the reservoir was then placed in the pocket and sutured in place with 2-0 vicryl sutures. the port catheter was then trimmed to length and inserted through a peel away at the venotomy site. the tip was positioned at the right atrium under fluoroscopic guidance. each lumen aspirated and flushed well, and was locked with normal saline. the venotomy site was closed with 4-0 monocryl suture as well as steri-strips. the reservoir pocket was closed in layers with 2-0 vicryl suture for the deep layers and 4-0 monocryl suture in a running subcuticular fashion, as well as steri-strips for the skin. the port was not left accessed. dressings were placed. post placement radiograph demonstrates good position. at the completion of the procedure, all procedural wires, catheters, and sheaths were removed and accounted for. the patient tolerated the procedure well. complications: none.\""
      ]
     },
     "execution_count": 8,
     "metadata": {},
     "output_type": "execute_result"
    }
   ],
   "source": [
    "valid_data.iloc[-500]['text']"
   ]
  },
  {
   "cell_type": "code",
   "execution_count": 10,
   "metadata": {},
   "outputs": [
    {
     "data": {
      "text/plain": [
       "3772"
      ]
     },
     "execution_count": 10,
     "metadata": {},
     "output_type": "execute_result"
    }
   ],
   "source": [
    "len(valid_data.iloc[-500]['text'])"
   ]
  },
  {
   "cell_type": "code",
   "execution_count": 13,
   "metadata": {},
   "outputs": [],
   "source": [
    "lengths= valid_data['text'].str.len()"
   ]
  },
  {
   "cell_type": "code",
   "execution_count": 15,
   "metadata": {},
   "outputs": [
    {
     "data": {
      "text/plain": [
       "45"
      ]
     },
     "execution_count": 15,
     "metadata": {},
     "output_type": "execute_result"
    }
   ],
   "source": [
    "min(lengths)"
   ]
  },
  {
   "cell_type": "code",
   "execution_count": 19,
   "metadata": {},
   "outputs": [],
   "source": [
    "hist(lengths)"
   ]
  },
  {
   "cell_type": "code",
   "execution_count": 20,
   "metadata": {},
   "outputs": [],
   "source": [
    "from matplotlib import pyplot as plt"
   ]
  },
  {
   "cell_type": "code",
   "execution_count": 22,
   "metadata": {},
   "outputs": [
    {
     "data": {
      "text/plain": [
       "(array([4.0067e+04, 2.7102e+04, 1.0474e+04, 1.5880e+03, 2.0600e+02,\n",
       "        4.1000e+01, 1.9000e+01, 2.0000e+00, 2.0000e+00, 3.0000e+00]),\n",
       " array([   45. ,  1423.7,  2802.4,  4181.1,  5559.8,  6938.5,  8317.2,\n",
       "         9695.9, 11074.6, 12453.3, 13832. ]),\n",
       " <BarContainer object of 10 artists>)"
      ]
     },
     "execution_count": 22,
     "metadata": {},
     "output_type": "execute_result"
    },
    {
     "data": {
      "image/png": "[encoded data removed]",
      "text/plain": [
       "<Figure size 432x288 with 1 Axes>"
      ]
     },
     "metadata": {
      "needs_background": "light"
     },
     "output_type": "display_data"
    }
   ],
   "source": [
    "plt.hist(lengths)"
   ]
  },
  {
   "cell_type": "code",
   "execution_count": 23,
   "metadata": {},
   "outputs": [],
   "source": [
    "filename= join(input_dir,train_filename)\n",
    "train_data =  pd.read_csv(filename)"
   ]
  },
  {
   "cell_type": "code",
   "execution_count": 24,
   "metadata": {},
   "outputs": [
    {
     "data": {
      "text/plain": [
       "(662579, 1)"
      ]
     },
     "execution_count": 24,
     "metadata": {},
     "output_type": "execute_result"
    }
   ],
   "source": [
    "train_data.shape"
   ]
  },
  {
   "cell_type": "code",
   "execution_count": 26,
   "metadata": {},
   "outputs": [],
   "source": [
    "train_length = train_data['text'].str.len()"
   ]
  },
  {
   "cell_type": "code",
   "execution_count": 27,
   "metadata": {},
   "outputs": [
    {
     "data": {
      "text/plain": [
       "(array([3.51299e+05, 2.29548e+05, 7.14690e+04, 8.80500e+03, 1.10100e+03,\n",
       "        2.24000e+02, 7.60000e+01, 2.70000e+01, 2.20000e+01, 8.00000e+00]),\n",
       " array([   18. ,  1505.3,  2992.6,  4479.9,  5967.2,  7454.5,  8941.8,\n",
       "        10429.1, 11916.4, 13403.7, 14891. ]),\n",
       " <BarContainer object of 10 artists>)"
      ]
     },
     "execution_count": 27,
     "metadata": {},
     "output_type": "execute_result"
    },
    {
     "data": {
      "image/png": "[encoded data removed]",
      "text/plain": [
       "<Figure size 432x288 with 1 Axes>"
      ]
     },
     "metadata": {
      "needs_background": "light"
     },
     "output_type": "display_data"
    }
   ],
   "source": [
    "plt.hist(train_length)"
   ]
  },
  {
   "cell_type": "code",
   "execution_count": null,
   "metadata": {},
   "outputs": [],
   "source": []
  }
 ],
 "metadata": {
  "environment": {
   "name": "pytorch-gpu.1-4.m56",
   "type": "gcloud",
   "uri": "gcr.io/deeplearning-platform-release/pytorch-gpu.1-4:m56"
  },
  "kernelspec": {
   "display_name": "Python 3",
   "language": "python",
   "name": "python3"
  },
  "language_info": {
   "codemirror_mode": {
    "name": "ipython",
    "version": 3
   },
   "file_extension": ".py",
   "mimetype": "text/x-python",
   "name": "python",
   "nbconvert_exporter": "python",
   "pygments_lexer": "ipython3",
   "version": "3.7.8"
  }
 },
 "nbformat": 4,
 "nbformat_minor": 4
}
