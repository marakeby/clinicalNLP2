{
 "cells": [
  {
   "cell_type": "code",
   "execution_count": 68,
   "metadata": {},
   "outputs": [],
   "source": [
    "import numpy as np\n",
    "import torch\n",
    "import torch.nn as nn\n",
    "import torch.nn.functional as F\n",
    "import math, copy, time\n",
    "from torch.autograd import Variable\n",
    "import matplotlib.pyplot as plt\n",
    "import seaborn\n",
    "seaborn.set_context(context=\"talk\")\n",
    "%matplotlib inline"
   ]
  },
  {
   "cell_type": "code",
   "execution_count": 69,
   "metadata": {},
   "outputs": [],
   "source": [
    "import datasets\n",
    "from os.path import join\n",
    "import tensorflow as tf\n",
    "import torch"
   ]
  },
  {
   "cell_type": "code",
   "execution_count": 70,
   "metadata": {},
   "outputs": [],
   "source": [
    "import os\n",
    "os.environ['KMP_DUPLICATE_LIB_OK']='True'\n",
    "params_files = []"
   ]
  },
  {
   "cell_type": "code",
   "execution_count": 71,
   "metadata": {},
   "outputs": [],
   "source": [
    "bert_model_name= 'google/bert_uncased_L-2_H-128_A-2'"
   ]
  },
  {
   "cell_type": "code",
   "execution_count": 72,
   "metadata": {},
   "outputs": [],
   "source": [
    "import sys\n",
    "sys.path.append(\"../\")\n",
    "from data.manual_labels.data_reader import ManualLabels"
   ]
  },
  {
   "cell_type": "code",
   "execution_count": 73,
   "metadata": {},
   "outputs": [],
   "source": [
    "from features_processing.bert_tokenizer import BERTTokenizer"
   ]
  },
  {
   "cell_type": "markdown",
   "metadata": {},
   "source": [
    "## Load Data"
   ]
  },
  {
   "cell_type": "code",
   "execution_count": 197,
   "metadata": {},
   "outputs": [
    {
     "name": "stdout",
     "output_type": "stream",
     "text": [
      "(8104, 16) (8104,)\n"
     ]
    }
   ],
   "source": [
    "data =[{'id':'any_cancer_IMPRESS','type': 'manual_label' , 'params': {'outcome': 'any_cancer', 'text': 'NARR+IMPRESS'}}]\n",
    "data = ManualLabels(**data[0]['params'])\n",
    "x_train, x_validate, x_test, y_train, y_validate, y_test, info_train, info_validate, info_test, columns = data.get_train_validate_test()"
   ]
  },
  {
   "cell_type": "code",
   "execution_count": 198,
   "metadata": {},
   "outputs": [
    {
     "name": "stdout",
     "output_type": "stream",
     "text": [
      "(6409,)\n",
      "(782,)\n",
      "(913,)\n"
     ]
    }
   ],
   "source": [
    "print (x_train.shape)\n",
    "print (x_validate.shape)\n",
    "print (x_test.shape)"
   ]
  },
  {
   "cell_type": "markdown",
   "metadata": {},
   "source": [
    "## preprocessing"
   ]
  },
  {
   "cell_type": "code",
   "execution_count": 199,
   "metadata": {},
   "outputs": [],
   "source": [
    "import re\n",
    "\n",
    "from sklearn.base import BaseEstimator\n",
    "\n",
    "\n",
    "def preprocess_text(sen):\n",
    "    # Removing html tags\n",
    "    sentence = remove_tags(sen)\n",
    "\n",
    "    # Remove punctuations and numbers\n",
    "#     sentence = re.sub('[^a-zA-Z]', ' ', sentence)\n",
    "    sentence = re.sub('[^0-9a-zA-Z:,]', ' ', sentence)\n",
    "\n",
    "    # Single character removal\n",
    "    sentence = re.sub(r\"\\s+[a-zA-Z]\\s+\", ' ', sentence)\n",
    "\n",
    "    # Removing multiple spaces\n",
    "    sentence = re.sub(r'\\s+', ' ', sentence)\n",
    "\n",
    "    return sentence\n",
    "\n",
    "TAG_RE = re.compile(r'<[^>]+>')\n",
    "\n",
    "def remove_tags(text):\n",
    "    return TAG_RE.sub('', text)\n",
    "\n",
    "class CleanText(BaseEstimator):\n",
    "    def __init__(self):\n",
    "        pass\n",
    "\n",
    "    def fit(self, X):\n",
    "        pass\n",
    "\n",
    "    def transform(self,X, y='deprecated', copy=None):\n",
    "        reviews = []\n",
    "        sentences = list(X)\n",
    "        for sen in sentences:\n",
    "            reviews.append(preprocess_text(sen))\n",
    "        return np.array(reviews)\n"
   ]
  },
  {
   "cell_type": "code",
   "execution_count": 200,
   "metadata": {},
   "outputs": [
    {
     "data": {
      "text/plain": [
       "(6409,)"
      ]
     },
     "execution_count": 200,
     "metadata": {},
     "output_type": "execute_result"
    }
   ],
   "source": [
    "x_train.shape"
   ]
  },
  {
   "cell_type": "code",
   "execution_count": 201,
   "metadata": {},
   "outputs": [],
   "source": [
    "proc= CleanText()\n",
    "x_test =proc.transform(x_test)\n",
    "x_validate =proc.transform(x_validate)\n",
    "x_train =proc.transform(x_train)"
   ]
  },
  {
   "cell_type": "code",
   "execution_count": 202,
   "metadata": {},
   "outputs": [
    {
     "data": {
      "text/plain": [
       "913"
      ]
     },
     "execution_count": 202,
     "metadata": {},
     "output_type": "execute_result"
    }
   ],
   "source": [
    "len(x_test)"
   ]
  },
  {
   "cell_type": "code",
   "execution_count": 203,
   "metadata": {},
   "outputs": [
    {
     "data": {
      "text/plain": [
       "numpy.ndarray"
      ]
     },
     "execution_count": 203,
     "metadata": {},
     "output_type": "execute_result"
    }
   ],
   "source": [
    "type(cleaned)"
   ]
  },
  {
   "cell_type": "code",
   "execution_count": 204,
   "metadata": {},
   "outputs": [
    {
     "data": {
      "text/plain": [
       "'exam number: a12214162 report status: final type: abd ct contrast 6026 date time: 09 14 2012 09:38 exam code: 6026 ordering provider: jackman md, david associated reports: a12326033: df 100 ml contrast a12326032: chest ct contrast 6023 report: indication: nonsmall cell lung cancer, restaging technique: ct of the chest and abdomen was performed following the administration of both oral and 100 ml of nonionic intravenous contrast material ultravist 300 comparison: 7 17 2012 findings: chest: dominant left lower lobe mass has not significantly changed, measuring 3 0 1 4 cm on coronal images 6: 22 5 mm nodule along the left major fissure appears unchanged in size, however has more solid appearance 3: 30 unchanged 2 3 mm nodules scattered throughout the lungs 3: 30, 32, 35 biapical scarring is unchanged peripheral nodularity with associated groundglass opacity in the right upper lobe appears similar, 3: 11 13 loculated fluid in the left apex is again noted 2: 10 similar appearance of post talc pleurodesis in the left hemithorax unchanged mild pleural thickening in the left lower hemithorax 2: 25, 3:42 no mediastinal, axillary or hilar adenopathy is present atherosclerotic calcification of the thoracic aorta and coronary arteries are again noted, unchanged abdomen: the liver enhances normally without mass lesion the gallbladder is fluid filled the pancreas, spleen and adrenal glands are unremarkable unchanged 1 3 cm left renal cyst other subcentimeter bilateral low density lesions within both kidneys are too small to characterize 2 mm nonobstructing renal calculi within the left upper pole appears unchanged no retroperitoneal lymphadenopathy is seen atherosclerotic calcification of the aorta is again noted, unchanged bones: no suspicious blastic or lytic bone lesions similar appearance of the compression fracture of l1 vertebral body impression: similar appearance of the lungs, with unchanged dominant pulmonary mass single 5 mm nodule along the left major fissure appears more solid although is unchanged in size, bears watching i, the teaching physician, have reviewed the images and agree with the report as written this report was electronically signed by stephanie howard md radiologists: signatures: cabral, md , fernanda howard, md , stephanie howard, md , stephanie finalized on: 09 14 2012 15:24 none'"
      ]
     },
     "execution_count": 204,
     "metadata": {},
     "output_type": "execute_result"
    }
   ],
   "source": [
    "x_test[0]"
   ]
  },
  {
   "cell_type": "code",
   "execution_count": null,
   "metadata": {},
   "outputs": [],
   "source": []
  },
  {
   "cell_type": "markdown",
   "metadata": {},
   "source": [
    "## Tokenization"
   ]
  },
  {
   "cell_type": "code",
   "execution_count": null,
   "metadata": {},
   "outputs": [],
   "source": []
  },
  {
   "cell_type": "code",
   "execution_count": 205,
   "metadata": {},
   "outputs": [],
   "source": [
    "# tokenizer= BERTTokenizer(bert_model_name, True, True, 512)\n",
    "tokenizer= BERTTokenizer(bert_model_name, False, False, None)"
   ]
  },
  {
   "cell_type": "code",
   "execution_count": 206,
   "metadata": {},
   "outputs": [
    {
     "name": "stdout",
     "output_type": "stream",
     "text": [
      "type ret <class 'transformers.tokenization_utils_base.BatchEncoding'>\n",
      "Encoding(num_tokens=752, attributes=[ids, type_ids, tokens, offsets, attention_mask, special_tokens_mask, overflowing])\n",
      "3\n",
      "type ret <class 'transformers.tokenization_utils_base.BatchEncoding'>\n",
      "Encoding(num_tokens=472, attributes=[ids, type_ids, tokens, offsets, attention_mask, special_tokens_mask, overflowing])\n",
      "3\n"
     ]
    }
   ],
   "source": [
    "x_train_encoded = tokenizer.transform(list(x_train))\n",
    "x_val_encoded = tokenizer.transform(list(x_validate))"
   ]
  },
  {
   "cell_type": "code",
   "execution_count": 207,
   "metadata": {},
   "outputs": [
    {
     "data": {
      "text/plain": [
       "transformers.tokenization_utils_base.BatchEncoding"
      ]
     },
     "execution_count": 207,
     "metadata": {},
     "output_type": "execute_result"
    }
   ],
   "source": [
    "type(x_train_encoded)"
   ]
  },
  {
   "cell_type": "code",
   "execution_count": 208,
   "metadata": {},
   "outputs": [],
   "source": [
    "class TorchDataset(torch.utils.data.Dataset):\n",
    "    def __init__(self, encodings, labels):\n",
    "        self.encodings = encodings\n",
    "        self.labels = labels\n",
    "\n",
    "    def __getitem__(self, idx):\n",
    "        item = {key: torch.tensor(val[idx]) for key, val in self.encodings.items()}\n",
    "        item['labels'] = torch.tensor(self.labels[idx])\n",
    "        return item\n",
    "\n",
    "    def __len__(self):\n",
    "        return len(self.labels)"
   ]
  },
  {
   "cell_type": "code",
   "execution_count": 209,
   "metadata": {},
   "outputs": [],
   "source": [
    "def get_dataset(encodings,labels, type='tf'):\n",
    "    if type=='tf':\n",
    "        dic= (encodings,labels) #not tested\n",
    "        return tf.data.Dataset.from_tensor_slices(dic)\n",
    "    else:\n",
    "        return TorchDataset(encodings, labels)"
   ]
  },
  {
   "cell_type": "code",
   "execution_count": 210,
   "metadata": {},
   "outputs": [],
   "source": [
    "train_dataset = get_dataset(x_train_encoded,y_train, type='torch')\n",
    "val_dataset = get_dataset(x_val_encoded,y_validate, type='torch')"
   ]
  },
  {
   "cell_type": "markdown",
   "metadata": {},
   "source": [
    "## Length of documents after tokenization"
   ]
  },
  {
   "cell_type": "code",
   "execution_count": null,
   "metadata": {},
   "outputs": [],
   "source": []
  },
  {
   "cell_type": "code",
   "execution_count": 211,
   "metadata": {},
   "outputs": [
    {
     "data": {
      "text/plain": [
       "6409"
      ]
     },
     "execution_count": 211,
     "metadata": {},
     "output_type": "execute_result"
    }
   ],
   "source": [
    "len(train_dataset)"
   ]
  },
  {
   "cell_type": "code",
   "execution_count": 212,
   "metadata": {},
   "outputs": [],
   "source": [
    "sample_lengths=[]\n",
    "for i in range(len(train_dataset)):\n",
    "    s= len(train_dataset[i]['input_ids'])\n",
    "    sample_lengths.append(s)"
   ]
  },
  {
   "cell_type": "code",
   "execution_count": 213,
   "metadata": {},
   "outputs": [
    {
     "data": {
      "text/plain": [
       "1229"
      ]
     },
     "execution_count": 213,
     "metadata": {},
     "output_type": "execute_result"
    }
   ],
   "source": [
    "max(sample_lengths)"
   ]
  },
  {
   "cell_type": "code",
   "execution_count": 214,
   "metadata": {},
   "outputs": [
    {
     "data": {
      "text/plain": [
       "11"
      ]
     },
     "execution_count": 214,
     "metadata": {},
     "output_type": "execute_result"
    }
   ],
   "source": [
    "min(sample_lengths)"
   ]
  },
  {
   "cell_type": "code",
   "execution_count": 215,
   "metadata": {},
   "outputs": [],
   "source": [
    "hist(sample_lengths)"
   ]
  },
  {
   "cell_type": "code",
   "execution_count": 216,
   "metadata": {},
   "outputs": [],
   "source": [
    "from matplotlib import pyplot as plt"
   ]
  },
  {
   "cell_type": "code",
   "execution_count": 217,
   "metadata": {},
   "outputs": [
    {
     "data": {
      "text/plain": [
       "Text(-4.375,0.5,'# documents')"
      ]
     },
     "execution_count": 217,
     "metadata": {},
     "output_type": "execute_result"
    },
    {
     "data": {
      "image/png": "[encoded data removed]",
      "text/plain": [
       "<Figure size 432x288 with 1 Axes>"
      ]
     },
     "metadata": {
      "needs_background": "light"
     },
     "output_type": "display_data"
    }
   ],
   "source": [
    "# plt.fig()\n",
    "plt.hist(sample_lengths)\n",
    "plt.savefig('lenghth_distribution.png')\n",
    "plt.xlabel('document length (wordpieces)')\n",
    "plt.ylabel('# documents')"
   ]
  },
  {
   "cell_type": "markdown",
   "metadata": {},
   "source": [
    "## Check for UNK tokens"
   ]
  },
  {
   "cell_type": "code",
   "execution_count": 218,
   "metadata": {},
   "outputs": [
    {
     "data": {
      "text/plain": [
       "array([  101,   102,  1010,  1014,  1015,  1016,  1017,  1018,  1019,\n",
       "        1020,  1021,  1022,  1023,  1024,  1041,  1044,  1045,  1996,\n",
       "        1997,  1998,  1999,  2001,  2003,  2004,  2006,  2007,  2011,\n",
       "        2014,  2015,  2019,  2021,  2023,  2024,  2025,  2030,  2031,\n",
       "        2036,  2038,  2045,  2047,  2051,  2053,  2060,  2070,  2072,\n",
       "        2085,  2098,  2140,  2157,  2184,  2187,  2193,  2235,  2286,\n",
       "        2297,  2302,  2319,  2324,  2334,  2340,  2345,  2382,  2385,\n",
       "        2389,  2459,  2475,  2512,  2517,  2557,  2566,  2570,  2598,\n",
       "        2620,  2638,  2692,  2695,  2717,  2772,  2828,  2854,  2861,\n",
       "        2865,  2896,  2904,  2922,  2946,  2964,  3022,  3058,  3085,\n",
       "        3108,  3126,  3130,  3189,  3311,  3350,  3356,  3366,  3438,\n",
       "        3445,  3447,  3486,  3490,  3526,  3550,  3560,  3570,  3623,\n",
       "        3630,  3642,  3760,  3904,  3998,  4005,  4090,  4226,  4229,\n",
       "        4246,  4252,  4293,  4295,  4413,  4456,  4464,  4502,  4642,\n",
       "        4663,  4700,  4724,  4748,  4871,  4895,  5024,  5107,  5179,\n",
       "        5290,  5553,  5555,  5688,  5732,  5754,  5944,  5993,  6022,\n",
       "        6028,  6090,  6129,  6146,  6200,  6305,  6447,  6643,  6728,\n",
       "        6822,  6895,  6903,  6922,  7293,  7389,  7444,  7522,  7632,\n",
       "        7831,  7842,  7861,  7932,  8017,  8065,  8159,  8182,  8234,\n",
       "        8485,  8605,  8913,  9080,  9108,  9307,  9386,  9556,  9808,\n",
       "        9854, 10250, 10413, 10451, 10514, 10624, 10802, 11192, 11236,\n",
       "       11290, 11360, 11867, 12032, 12407, 12647, 13063, 13594, 13878,\n",
       "       14234, 14405, 14499, 14674, 14858, 14905, 14931, 14956, 14973,\n",
       "       15298, 15621, 15704, 16298, 16308, 16442, 16594, 16643, 16677,\n",
       "       16748, 16921, 17007, 17080, 17350, 17439, 17632, 17872, 18098,\n",
       "       18168, 18491, 18738, 18804, 19321, 19875, 20228, 21412, 21419,\n",
       "       21833, 21887, 21908, 21926, 22025, 22260, 22520, 22571, 23340,\n",
       "       23575, 23806, 24129, 24413, 24434, 24501, 25070, 25311, 26033,\n",
       "       26721, 26819, 27699, 27815, 28578, 28667, 28926, 29357, 29423,\n",
       "       29461, 29477, 29610])"
      ]
     },
     "execution_count": 218,
     "metadata": {},
     "output_type": "execute_result"
    }
   ],
   "source": [
    "np.unique(train_dataset[0]['input_ids'])"
   ]
  },
  {
   "cell_type": "code",
   "execution_count": 219,
   "metadata": {},
   "outputs": [
    {
     "data": {
      "text/plain": [
       "'[UNK]'"
      ]
     },
     "execution_count": 219,
     "metadata": {},
     "output_type": "execute_result"
    }
   ],
   "source": [
    "tokenizer.tokenizer.unk_token"
   ]
  },
  {
   "cell_type": "code",
   "execution_count": 220,
   "metadata": {},
   "outputs": [
    {
     "data": {
      "text/plain": [
       "'[CLS]'"
      ]
     },
     "execution_count": 220,
     "metadata": {},
     "output_type": "execute_result"
    }
   ],
   "source": [
    "tokenizer.tokenizer.cls_token"
   ]
  },
  {
   "cell_type": "code",
   "execution_count": 221,
   "metadata": {},
   "outputs": [],
   "source": [
    "tokens = tokenizer.tokenizer.convert_ids_to_tokens(train_dataset[0]['input_ids'])"
   ]
  },
  {
   "cell_type": "code",
   "execution_count": 222,
   "metadata": {},
   "outputs": [
    {
     "data": {
      "text/plain": [
       "['[CLS]', 'exam', 'number', ':', 'a1', '##37', '##38', '##0', '##8', '##2']"
      ]
     },
     "execution_count": 222,
     "metadata": {},
     "output_type": "execute_result"
    }
   ],
   "source": [
    "tokens[0:10]"
   ]
  },
  {
   "cell_type": "code",
   "execution_count": 223,
   "metadata": {},
   "outputs": [
    {
     "data": {
      "text/plain": [
       "0"
      ]
     },
     "execution_count": 223,
     "metadata": {},
     "output_type": "execute_result"
    }
   ],
   "source": [
    "tokens.count(tokenizer.tokenizer.unk_token)"
   ]
  },
  {
   "cell_type": "code",
   "execution_count": 224,
   "metadata": {},
   "outputs": [],
   "source": [
    "data_set=val_dataset\n",
    "# data_set=train_dataset\n",
    "number_of_UNK_list=[]\n",
    "for i in range(len(data_set)):\n",
    "    tokens = tokenizer.tokenizer.convert_ids_to_tokens(data_set[i]['input_ids'])\n",
    "    s=tokens.count(tokenizer.tokenizer.unk_token)\n",
    "    number_of_UNK_list.append(s)"
   ]
  },
  {
   "cell_type": "code",
   "execution_count": 225,
   "metadata": {},
   "outputs": [
    {
     "data": {
      "text/plain": [
       "0"
      ]
     },
     "execution_count": 225,
     "metadata": {},
     "output_type": "execute_result"
    }
   ],
   "source": [
    "sum(number_of_UNK_list)"
   ]
  },
  {
   "cell_type": "markdown",
   "metadata": {},
   "source": [
    "## get embeddings"
   ]
  },
  {
   "cell_type": "code",
   "execution_count": 226,
   "metadata": {},
   "outputs": [],
   "source": [
    "# from model.bert_model_utils import TorchDataset, BertForLongSequenceClassification\n",
    "from transformers import BertModel"
   ]
  },
  {
   "cell_type": "code",
   "execution_count": 227,
   "metadata": {},
   "outputs": [],
   "source": [
    "model = BertModel.from_pretrained(bert_model_name)"
   ]
  },
  {
   "cell_type": "code",
   "execution_count": 228,
   "metadata": {},
   "outputs": [],
   "source": [
    "input_ids = val_dataset[0]['input_ids'].unsqueeze(0) \n",
    "ret_validation  = model(input_ids)"
   ]
  },
  {
   "cell_type": "code",
   "execution_count": 229,
   "metadata": {},
   "outputs": [
    {
     "data": {
      "text/plain": [
       "torch.Size([1, 414, 128])"
      ]
     },
     "execution_count": 229,
     "metadata": {},
     "output_type": "execute_result"
    }
   ],
   "source": [
    "ret_validation[0].shape"
   ]
  },
  {
   "cell_type": "code",
   "execution_count": 230,
   "metadata": {},
   "outputs": [
    {
     "data": {
      "text/plain": [
       "torch.Size([1, 128])"
      ]
     },
     "execution_count": 230,
     "metadata": {},
     "output_type": "execute_result"
    }
   ],
   "source": [
    "ret_validation[1].shape"
   ]
  },
  {
   "cell_type": "code",
   "execution_count": null,
   "metadata": {},
   "outputs": [],
   "source": []
  }
 ],
 "metadata": {
  "kernelspec": {
   "display_name": "nlp",
   "language": "python",
   "name": "nlp"
  },
  "language_info": {
   "codemirror_mode": {
    "name": "ipython",
    "version": 3
   },
   "file_extension": ".py",
   "mimetype": "text/x-python",
   "name": "python",
   "nbconvert_exporter": "python",
   "pygments_lexer": "ipython3",
   "version": "3.7.2"
  }
 },
 "nbformat": 4,
 "nbformat_minor": 2
}
