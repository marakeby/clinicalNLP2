{
 "cells": [
  {
   "cell_type": "code",
   "execution_count": 1,
   "metadata": {},
   "outputs": [],
   "source": [
    "import datasets\n",
    "from os.path import join\n",
    "import tensorflow as tf\n",
    "import torch"
   ]
  },
  {
   "cell_type": "code",
   "execution_count": 3,
   "metadata": {},
   "outputs": [],
   "source": [
    "\n",
    "import os\n",
    "os.environ['KMP_DUPLICATE_LIB_OK']='True'\n",
    "params_files = []"
   ]
  },
  {
   "cell_type": "code",
   "execution_count": 4,
   "metadata": {},
   "outputs": [],
   "source": [
    "bert_model_name= 'google/bert_uncased_L-2_H-128_A-2'"
   ]
  },
  {
   "cell_type": "code",
   "execution_count": 5,
   "metadata": {},
   "outputs": [],
   "source": [
    "import sys\n",
    "sys.path.append(\"../\")\n",
    "from data.manual_labels.data_reader import ManualLabels"
   ]
  },
  {
   "cell_type": "code",
   "execution_count": 6,
   "metadata": {},
   "outputs": [
    {
     "name": "stderr",
     "output_type": "stream",
     "text": [
      "Using TensorFlow backend.\n"
     ]
    }
   ],
   "source": [
    "from features_processing.bert_tokenizer import BERTTokenizer"
   ]
  },
  {
   "cell_type": "markdown",
   "metadata": {},
   "source": [
    "## DATA"
   ]
  },
  {
   "cell_type": "code",
   "execution_count": 7,
   "metadata": {},
   "outputs": [
    {
     "name": "stdout",
     "output_type": "stream",
     "text": [
      "(2570, 16) (2570,)\n"
     ]
    }
   ],
   "source": [
    "data =[{'id':'any_cancer_IMPRESS','type': 'manual_label' , 'params': {'outcome': 'any_cancer', 'text': 'IMPRESS'}}]\n",
    "data = ManualLabels(**data[0]['params'])\n",
    "x_train, x_validate, x_test, y_train, y_validate, y_test, info_train, info_validate, info_test, columns = data.get_train_validate_test()"
   ]
  },
  {
   "cell_type": "code",
   "execution_count": 8,
   "metadata": {},
   "outputs": [],
   "source": [
    "tokenizer= BERTTokenizer(bert_model_name, True, True, 512)"
   ]
  },
  {
   "cell_type": "markdown",
   "metadata": {},
   "source": [
    "## Tokenizer"
   ]
  },
  {
   "cell_type": "code",
   "execution_count": 9,
   "metadata": {},
   "outputs": [],
   "source": [
    "x_train_encoded = tokenizer.transform(list(x_train))\n",
    "x_val_encoded = tokenizer.transform(list(x_validate))"
   ]
  },
  {
   "cell_type": "code",
   "execution_count": 35,
   "metadata": {},
   "outputs": [
    {
     "data": {
      "text/plain": [
       "Encoding(num_tokens=512, attributes=[ids, type_ids, tokens, offsets, attention_mask, special_tokens_mask, overflowing])"
      ]
     },
     "execution_count": 35,
     "metadata": {},
     "output_type": "execute_result"
    }
   ],
   "source": [
    "x_train_encoded[0]"
   ]
  },
  {
   "cell_type": "code",
   "execution_count": 10,
   "metadata": {},
   "outputs": [
    {
     "data": {
      "text/plain": [
       "transformers.tokenization_utils_base.BatchEncoding"
      ]
     },
     "execution_count": 10,
     "metadata": {},
     "output_type": "execute_result"
    }
   ],
   "source": [
    "type(x_train_encoded)"
   ]
  },
  {
   "cell_type": "code",
   "execution_count": 11,
   "metadata": {},
   "outputs": [
    {
     "data": {
      "text/plain": [
       "Encoding(num_tokens=512, attributes=[ids, type_ids, tokens, offsets, attention_mask, special_tokens_mask, overflowing])"
      ]
     },
     "execution_count": 11,
     "metadata": {},
     "output_type": "execute_result"
    }
   ],
   "source": [
    "x_train_encoded[2]"
   ]
  },
  {
   "cell_type": "code",
   "execution_count": 12,
   "metadata": {},
   "outputs": [
    {
     "data": {
      "text/plain": [
       "2043"
      ]
     },
     "execution_count": 12,
     "metadata": {},
     "output_type": "execute_result"
    }
   ],
   "source": [
    "len(list(x_train))"
   ]
  },
  {
   "cell_type": "code",
   "execution_count": 13,
   "metadata": {},
   "outputs": [
    {
     "data": {
      "text/plain": [
       "(2043,)"
      ]
     },
     "execution_count": 13,
     "metadata": {},
     "output_type": "execute_result"
    }
   ],
   "source": [
    "x_train.shape"
   ]
  },
  {
   "cell_type": "code",
   "execution_count": 14,
   "metadata": {},
   "outputs": [],
   "source": [
    "class TorchDataset(torch.utils.data.Dataset):\n",
    "    def __init__(self, encodings, labels):\n",
    "        self.encodings = encodings\n",
    "        self.labels = labels\n",
    "\n",
    "    def __getitem__(self, idx):\n",
    "        item = {key: torch.tensor(val[idx]) for key, val in self.encodings.items()}\n",
    "        item['labels'] = torch.tensor(self.labels[idx])\n",
    "        return item\n",
    "\n",
    "    def __len__(self):\n",
    "        return len(self.labels)"
   ]
  },
  {
   "cell_type": "code",
   "execution_count": 15,
   "metadata": {},
   "outputs": [],
   "source": [
    "def get_dataset(encodings,labels, type='tf'):\n",
    "    if type=='tf':\n",
    "        dic= (encodings,labels) #not tested\n",
    "        return tf.data.Dataset.from_tensor_slices(dic)\n",
    "    else:\n",
    "        return TorchDataset(encodings, labels)"
   ]
  },
  {
   "cell_type": "code",
   "execution_count": 48,
   "metadata": {},
   "outputs": [
    {
     "data": {
      "text/plain": [
       "Encoding(num_tokens=321, attributes=[ids, type_ids, tokens, offsets, attention_mask, special_tokens_mask, overflowing])"
      ]
     },
     "execution_count": 48,
     "metadata": {},
     "output_type": "execute_result"
    }
   ],
   "source": [
    "x_val_encoded[0]"
   ]
  },
  {
   "cell_type": "code",
   "execution_count": 16,
   "metadata": {},
   "outputs": [],
   "source": [
    "train_dataset = get_dataset(x_train_encoded,y_train, type='torch')\n",
    "val_dataset = get_dataset(x_val_encoded,y_validate, type='torch')"
   ]
  },
  {
   "cell_type": "code",
   "execution_count": 50,
   "metadata": {},
   "outputs": [
    {
     "data": {
      "text/plain": [
       "tensor([  101,  8605,  1024, 11192,  4456,  1010,  2717, 16594, 13594,  1012,\n",
       "         7263, 13483,  3623,  1999,  2157, 11192,  7293, 16308,  1012,  2053,\n",
       "        15298,  2047,  2609,  1997,  4295,  1012,  1045,  1010,  1996,  4252,\n",
       "         7522,  1010,  2031,  8182,  1996,  4871,  1998,  5993,  2007,  1996,\n",
       "         3189,  2004,  2517,  1012,   102,     0,     0,     0,     0,     0,\n",
       "            0,     0,     0,     0,     0,     0,     0,     0,     0,     0,\n",
       "            0,     0,     0,     0,     0,     0,     0,     0,     0,     0,\n",
       "            0,     0,     0,     0,     0,     0,     0,     0,     0,     0,\n",
       "            0,     0,     0,     0,     0,     0,     0,     0,     0,     0,\n",
       "            0,     0,     0,     0,     0,     0,     0,     0,     0,     0,\n",
       "            0,     0,     0,     0,     0,     0,     0,     0,     0,     0,\n",
       "            0,     0,     0,     0,     0,     0,     0,     0,     0,     0,\n",
       "            0,     0,     0,     0,     0,     0,     0,     0,     0,     0,\n",
       "            0,     0,     0,     0,     0,     0,     0,     0,     0,     0,\n",
       "            0,     0,     0,     0,     0,     0,     0,     0,     0,     0,\n",
       "            0,     0,     0,     0,     0,     0,     0,     0,     0,     0,\n",
       "            0,     0,     0,     0,     0,     0,     0,     0,     0,     0,\n",
       "            0,     0,     0,     0,     0,     0,     0,     0,     0,     0,\n",
       "            0,     0,     0,     0,     0,     0,     0,     0,     0,     0,\n",
       "            0,     0,     0,     0,     0,     0,     0,     0,     0,     0,\n",
       "            0,     0,     0,     0,     0,     0,     0,     0,     0,     0,\n",
       "            0,     0,     0,     0,     0,     0,     0,     0,     0,     0,\n",
       "            0,     0,     0,     0,     0,     0,     0,     0,     0,     0,\n",
       "            0,     0,     0,     0,     0,     0,     0,     0,     0,     0,\n",
       "            0,     0,     0,     0,     0,     0,     0,     0,     0,     0,\n",
       "            0,     0,     0,     0,     0,     0,     0,     0,     0,     0,\n",
       "            0,     0,     0,     0,     0,     0,     0,     0,     0,     0,\n",
       "            0,     0,     0,     0,     0,     0,     0,     0,     0,     0,\n",
       "            0,     0,     0,     0,     0,     0,     0,     0,     0,     0,\n",
       "            0,     0,     0,     0,     0,     0,     0,     0,     0,     0,\n",
       "            0,     0,     0,     0,     0,     0,     0,     0,     0,     0,\n",
       "            0,     0,     0,     0,     0,     0,     0,     0,     0,     0,\n",
       "            0])"
      ]
     },
     "execution_count": 50,
     "metadata": {},
     "output_type": "execute_result"
    }
   ],
   "source": [
    "val_dataset[0]['input_ids']"
   ]
  },
  {
   "cell_type": "markdown",
   "metadata": {},
   "source": [
    "## Model"
   ]
  },
  {
   "cell_type": "code",
   "execution_count": 18,
   "metadata": {},
   "outputs": [],
   "source": [
    "bert_mini = 'google/bert_uncased_L-4_H-256_A-4'\n",
    "model_name = bert_mini"
   ]
  },
  {
   "cell_type": "markdown",
   "metadata": {},
   "source": [
    "## Training"
   ]
  },
  {
   "cell_type": "code",
   "execution_count": null,
   "metadata": {},
   "outputs": [],
   "source": []
  },
  {
   "cell_type": "code",
   "execution_count": 19,
   "metadata": {},
   "outputs": [],
   "source": [
    "from transformers import glue_convert_examples_to_features, BertTokenizer, AutoTokenizer\n",
    "from transformers import TFAutoModelForSequenceClassification, AutoModelForSequenceClassification, TFAutoModel, AutoModel"
   ]
  },
  {
   "cell_type": "code",
   "execution_count": 20,
   "metadata": {},
   "outputs": [
    {
     "name": "stderr",
     "output_type": "stream",
     "text": [
      "Some weights of the model checkpoint at google/bert_uncased_L-4_H-256_A-4 were not used when initializing BertForSequenceClassification: ['cls.predictions.bias', 'cls.predictions.transform.dense.weight', 'cls.predictions.transform.dense.bias', 'cls.predictions.transform.LayerNorm.weight', 'cls.predictions.transform.LayerNorm.bias', 'cls.predictions.decoder.weight', 'cls.predictions.decoder.bias', 'cls.seq_relationship.weight', 'cls.seq_relationship.bias']\n",
      "- This IS expected if you are initializing BertForSequenceClassification from the checkpoint of a model trained on another task or with another architecture (e.g. initializing a BertForSequenceClassification model from a BertForPreTraining model).\n",
      "- This IS NOT expected if you are initializing BertForSequenceClassification from the checkpoint of a model that you expect to be exactly identical (initializing a BertForSequenceClassification model from a BertForSequenceClassification model).\n",
      "Some weights of BertForSequenceClassification were not initialized from the model checkpoint at google/bert_uncased_L-4_H-256_A-4 and are newly initialized: ['classifier.weight', 'classifier.bias']\n",
      "You should probably TRAIN this model on a down-stream task to be able to use it for predictions and inference.\n"
     ]
    }
   ],
   "source": [
    "# from transformers import TFDistilBertForSequenceClassification, TFTrainer, TFTrainingArguments\n",
    "from transformers import  TFTrainer, TFTrainingArguments, Trainer, TrainingArguments\n",
    "\n",
    "training_args = TrainingArguments(\n",
    "    output_dir='./results',          # output directory\n",
    "    num_train_epochs=3,              # total number of training epochs\n",
    "    per_device_train_batch_size=16,  # batch size per device during training\n",
    "    per_device_eval_batch_size=64,   # batch size for evaluation\n",
    "    warmup_steps=500,                # number of warmup steps for learning rate scheduler\n",
    "    weight_decay=0.01,               # strength of weight decay\n",
    "    logging_dir='./logs',            # directory for storing logs\n",
    "    logging_steps=10,\n",
    ")\n",
    "\n",
    "# with training_args.strategy.scope():\n",
    "model = AutoModelForSequenceClassification.from_pretrained(model_name)\n",
    "#     model = TFDistilBertForSequenceClassification.from_pretrained(\"distilbert-base-uncased\")\n",
    "\n",
    "trainer = Trainer(\n",
    "    model=model,                         # the instantiated 🤗 Transformers model to be trained\n",
    "    args=training_args,                  # training arguments, defined above\n",
    "    train_dataset=train_dataset,         # training dataset\n",
    "    eval_dataset=val_dataset             # evaluation dataset\n",
    ")\n"
   ]
  },
  {
   "cell_type": "code",
   "execution_count": 21,
   "metadata": {},
   "outputs": [],
   "source": [
    "for name, param in model.named_parameters():\n",
    "#     print (name)\n",
    "    if 'classifier' not in name: # classifier layer\n",
    "        param.requires_grad = False"
   ]
  },
  {
   "cell_type": "code",
   "execution_count": 22,
   "metadata": {},
   "outputs": [
    {
     "data": {
      "text/html": [
       "\n",
       "    <div>\n",
       "        <style>\n",
       "            /* Turns off some styling */\n",
       "            progress {\n",
       "                /* gets rid of default border in Firefox and Opera. */\n",
       "                border: none;\n",
       "                /* Needs to be in here for Safari polyfill so background images work as expected. */\n",
       "                background-size: auto;\n",
       "            }\n",
       "        </style>\n",
       "      \n",
       "      <progress value='384' max='384' style='width:300px; height:20px; vertical-align: middle;'></progress>\n",
       "      [384/384 13:59, Epoch 3/3]\n",
       "    </div>\n",
       "    <table border=\"1\" class=\"dataframe\">\n",
       "  <thead>\n",
       "    <tr style=\"text-align: left;\">\n",
       "      <th>Step</th>\n",
       "      <th>Training Loss</th>\n",
       "    </tr>\n",
       "  </thead>\n",
       "  <tbody>\n",
       "    <tr>\n",
       "      <td>10</td>\n",
       "      <td>0.671025</td>\n",
       "    </tr>\n",
       "    <tr>\n",
       "      <td>20</td>\n",
       "      <td>0.684205</td>\n",
       "    </tr>\n",
       "    <tr>\n",
       "      <td>30</td>\n",
       "      <td>0.670889</td>\n",
       "    </tr>\n",
       "    <tr>\n",
       "      <td>40</td>\n",
       "      <td>0.703035</td>\n",
       "    </tr>\n",
       "    <tr>\n",
       "      <td>50</td>\n",
       "      <td>0.693403</td>\n",
       "    </tr>\n",
       "    <tr>\n",
       "      <td>60</td>\n",
       "      <td>0.663061</td>\n",
       "    </tr>\n",
       "    <tr>\n",
       "      <td>70</td>\n",
       "      <td>0.672130</td>\n",
       "    </tr>\n",
       "    <tr>\n",
       "      <td>80</td>\n",
       "      <td>0.667905</td>\n",
       "    </tr>\n",
       "    <tr>\n",
       "      <td>90</td>\n",
       "      <td>0.709429</td>\n",
       "    </tr>\n",
       "    <tr>\n",
       "      <td>100</td>\n",
       "      <td>0.712643</td>\n",
       "    </tr>\n",
       "    <tr>\n",
       "      <td>110</td>\n",
       "      <td>0.694555</td>\n",
       "    </tr>\n",
       "    <tr>\n",
       "      <td>120</td>\n",
       "      <td>0.685385</td>\n",
       "    </tr>\n",
       "    <tr>\n",
       "      <td>130</td>\n",
       "      <td>0.730510</td>\n",
       "    </tr>\n",
       "    <tr>\n",
       "      <td>140</td>\n",
       "      <td>0.670843</td>\n",
       "    </tr>\n",
       "    <tr>\n",
       "      <td>150</td>\n",
       "      <td>0.693215</td>\n",
       "    </tr>\n",
       "    <tr>\n",
       "      <td>160</td>\n",
       "      <td>0.711239</td>\n",
       "    </tr>\n",
       "    <tr>\n",
       "      <td>170</td>\n",
       "      <td>0.675606</td>\n",
       "    </tr>\n",
       "    <tr>\n",
       "      <td>180</td>\n",
       "      <td>0.676115</td>\n",
       "    </tr>\n",
       "    <tr>\n",
       "      <td>190</td>\n",
       "      <td>0.697997</td>\n",
       "    </tr>\n",
       "    <tr>\n",
       "      <td>200</td>\n",
       "      <td>0.697827</td>\n",
       "    </tr>\n",
       "    <tr>\n",
       "      <td>210</td>\n",
       "      <td>0.694290</td>\n",
       "    </tr>\n",
       "    <tr>\n",
       "      <td>220</td>\n",
       "      <td>0.686175</td>\n",
       "    </tr>\n",
       "    <tr>\n",
       "      <td>230</td>\n",
       "      <td>0.694760</td>\n",
       "    </tr>\n",
       "    <tr>\n",
       "      <td>240</td>\n",
       "      <td>0.697216</td>\n",
       "    </tr>\n",
       "    <tr>\n",
       "      <td>250</td>\n",
       "      <td>0.679692</td>\n",
       "    </tr>\n",
       "    <tr>\n",
       "      <td>260</td>\n",
       "      <td>0.680717</td>\n",
       "    </tr>\n",
       "    <tr>\n",
       "      <td>270</td>\n",
       "      <td>0.688798</td>\n",
       "    </tr>\n",
       "    <tr>\n",
       "      <td>280</td>\n",
       "      <td>0.653333</td>\n",
       "    </tr>\n",
       "    <tr>\n",
       "      <td>290</td>\n",
       "      <td>0.667922</td>\n",
       "    </tr>\n",
       "    <tr>\n",
       "      <td>300</td>\n",
       "      <td>0.656723</td>\n",
       "    </tr>\n",
       "    <tr>\n",
       "      <td>310</td>\n",
       "      <td>0.691274</td>\n",
       "    </tr>\n",
       "    <tr>\n",
       "      <td>320</td>\n",
       "      <td>0.697540</td>\n",
       "    </tr>\n",
       "    <tr>\n",
       "      <td>330</td>\n",
       "      <td>0.680889</td>\n",
       "    </tr>\n",
       "    <tr>\n",
       "      <td>340</td>\n",
       "      <td>0.696279</td>\n",
       "    </tr>\n",
       "    <tr>\n",
       "      <td>350</td>\n",
       "      <td>0.695013</td>\n",
       "    </tr>\n",
       "    <tr>\n",
       "      <td>360</td>\n",
       "      <td>0.676681</td>\n",
       "    </tr>\n",
       "    <tr>\n",
       "      <td>370</td>\n",
       "      <td>0.696781</td>\n",
       "    </tr>\n",
       "    <tr>\n",
       "      <td>380</td>\n",
       "      <td>0.683074</td>\n",
       "    </tr>\n",
       "  </tbody>\n",
       "</table><p>"
      ],
      "text/plain": [
       "<IPython.core.display.HTML object>"
      ]
     },
     "metadata": {},
     "output_type": "display_data"
    },
    {
     "data": {
      "text/plain": [
       "TrainOutput(global_step=384, training_loss=0.6869475816686949)"
      ]
     },
     "execution_count": 22,
     "metadata": {},
     "output_type": "execute_result"
    }
   ],
   "source": [
    "trainer.train()"
   ]
  },
  {
   "cell_type": "code",
   "execution_count": 24,
   "metadata": {},
   "outputs": [
    {
     "data": {
      "text/html": [
       "\n",
       "    <div>\n",
       "        <style>\n",
       "            /* Turns off some styling */\n",
       "            progress {\n",
       "                /* gets rid of default border in Firefox and Opera. */\n",
       "                border: none;\n",
       "                /* Needs to be in here for Safari polyfill so background images work as expected. */\n",
       "                background-size: auto;\n",
       "            }\n",
       "        </style>\n",
       "      \n",
       "      <progress value='36' max='32' style='width:300px; height:20px; vertical-align: middle;'></progress>\n",
       "      [32/32 04:47]\n",
       "    </div>\n",
       "    "
      ],
      "text/plain": [
       "<IPython.core.display.HTML object>"
      ]
     },
     "metadata": {},
     "output_type": "display_data"
    }
   ],
   "source": [
    "train_prediciton = trainer.predict(train_dataset)"
   ]
  },
  {
   "cell_type": "code",
   "execution_count": 26,
   "metadata": {},
   "outputs": [
    {
     "data": {
      "text/plain": [
       "(2043, 2)"
      ]
     },
     "execution_count": 26,
     "metadata": {},
     "output_type": "execute_result"
    }
   ],
   "source": [
    "train_prediciton.predictions.shape"
   ]
  },
  {
   "cell_type": "code",
   "execution_count": 27,
   "metadata": {},
   "outputs": [
    {
     "data": {
      "text/plain": [
       "(228, 2)"
      ]
     },
     "execution_count": 27,
     "metadata": {},
     "output_type": "execute_result"
    }
   ],
   "source": [
    "val_prediciton = trainer.predict(val_dataset)\n",
    "val_prediciton.predictions"
   ]
  },
  {
   "cell_type": "code",
   "execution_count": 30,
   "metadata": {},
   "outputs": [
    {
     "data": {
      "text/plain": [
       "(228,)"
      ]
     },
     "execution_count": 30,
     "metadata": {},
     "output_type": "execute_result"
    }
   ],
   "source": [
    "val_prediciton.predictions.argmax(axis=1).shape"
   ]
  },
  {
   "cell_type": "code",
   "execution_count": 31,
   "metadata": {},
   "outputs": [
    {
     "data": {
      "text/plain": [
       "(228,)"
      ]
     },
     "execution_count": 31,
     "metadata": {},
     "output_type": "execute_result"
    }
   ],
   "source": [
    "x_validate.shape"
   ]
  },
  {
   "cell_type": "code",
   "execution_count": 32,
   "metadata": {},
   "outputs": [
    {
     "data": {
      "text/plain": [
       "array([[-0.36307108, -0.06306561],\n",
       "       [-0.39728653, -0.04404884],\n",
       "       [-0.44236404, -0.07473429],\n",
       "       [-0.4295658 , -0.07578716],\n",
       "       [-0.2708267 , -0.09292857],\n",
       "       [-0.37386972, -0.07288186],\n",
       "       [-0.3983547 , -0.04792517],\n",
       "       [-0.39643368, -0.04444391],\n",
       "       [-0.43347958, -0.04299917],\n",
       "       [-0.3757126 , -0.10583872],\n",
       "       [-0.39969778, -0.09234884],\n",
       "       [-0.37930778, -0.03551338],\n",
       "       [-0.35765976, -0.09728746],\n",
       "       [-0.42904067, -0.08488195],\n",
       "       [-0.38601953, -0.06436409],\n",
       "       [-0.34401393, -0.03371797],\n",
       "       [-0.46314323, -0.12679453],\n",
       "       [-0.36545756, -0.11137249],\n",
       "       [-0.26646876, -0.12252057],\n",
       "       [-0.25250682, -0.03125205],\n",
       "       [-0.21499565, -0.07627793],\n",
       "       [-0.2615397 , -0.041428  ],\n",
       "       [-0.4275329 , -0.09229673],\n",
       "       [-0.34965083, -0.03099173],\n",
       "       [-0.07864101, -0.04274325],\n",
       "       [-0.36078   , -0.04968891],\n",
       "       [-0.45129833, -0.04903188],\n",
       "       [-0.37375835, -0.03004476],\n",
       "       [-0.38327333, -0.07400703],\n",
       "       [-0.36300987,  0.02104184],\n",
       "       [-0.37870944, -0.09549753],\n",
       "       [-0.22808953, -0.06906821],\n",
       "       [-0.4036283 , -0.07865562],\n",
       "       [-0.3564195 , -0.08756606],\n",
       "       [-0.35093325, -0.00800936],\n",
       "       [-0.37861878, -0.105341  ],\n",
       "       [-0.3353815 , -0.05104687],\n",
       "       [-0.2735915 , -0.08651236],\n",
       "       [-0.27575713, -0.10365951],\n",
       "       [-0.38018438, -0.06859348],\n",
       "       [-0.43128943, -0.08711831],\n",
       "       [-0.4633053 , -0.0834829 ],\n",
       "       [-0.21819451, -0.06140964],\n",
       "       [-0.3572467 , -0.01810382],\n",
       "       [-0.3354906 , -0.06559931],\n",
       "       [-0.3594093 , -0.07077434],\n",
       "       [-0.47630453, -0.08650573],\n",
       "       [-0.40968806, -0.0478772 ],\n",
       "       [-0.2407546 , -0.04358953],\n",
       "       [-0.312062  , -0.07089249],\n",
       "       [-0.36682674, -0.07379146],\n",
       "       [-0.35532814, -0.09808316],\n",
       "       [-0.40545568, -0.1108884 ],\n",
       "       [-0.45780456, -0.03944386],\n",
       "       [-0.16971326, -0.0201529 ],\n",
       "       [-0.4035821 , -0.1119412 ],\n",
       "       [-0.24888349, -0.02877211],\n",
       "       [-0.12357749,  0.00383594],\n",
       "       [-0.39311367, -0.08745843],\n",
       "       [-0.4170618 , -0.11866187],\n",
       "       [-0.298136  , -0.09511729],\n",
       "       [-0.19956832, -0.1238566 ],\n",
       "       [-0.13587387, -0.09015244],\n",
       "       [-0.41543615, -0.11852075],\n",
       "       [-0.3578709 , -0.07229225],\n",
       "       [-0.3959071 , -0.08496393],\n",
       "       [-0.41521257, -0.09219945],\n",
       "       [-0.4180051 , -0.10525651],\n",
       "       [-0.32284322, -0.02588127],\n",
       "       [-0.33955613, -0.13922477],\n",
       "       [-0.31290865, -0.06269652],\n",
       "       [-0.3977597 , -0.05784236],\n",
       "       [-0.33070946, -0.06055742],\n",
       "       [-0.21116002, -0.00427197],\n",
       "       [-0.36752003, -0.09514498],\n",
       "       [-0.31162047, -0.04784304],\n",
       "       [-0.2972106 , -0.04671355],\n",
       "       [-0.33349043, -0.10360625],\n",
       "       [-0.29281747, -0.15012781],\n",
       "       [-0.26269653, -0.19418322],\n",
       "       [-0.3334939 , -0.0713755 ],\n",
       "       [-0.4232619 , -0.05350668],\n",
       "       [-0.12504534, -0.04730792],\n",
       "       [-0.1795045 , -0.05645633],\n",
       "       [-0.41299194, -0.13945092],\n",
       "       [-0.2760582 , -0.04835737],\n",
       "       [-0.3715087 , -0.08602463],\n",
       "       [-0.17915525, -0.03890219],\n",
       "       [-0.14848486, -0.09201356],\n",
       "       [-0.41565007, -0.04357035],\n",
       "       [-0.35841864, -0.16557835],\n",
       "       [-0.3370785 , -0.10906196],\n",
       "       [-0.2982771 , -0.04715617],\n",
       "       [-0.4330149 , -0.07891148],\n",
       "       [-0.42352295, -0.05015465],\n",
       "       [-0.31181955, -0.0674957 ],\n",
       "       [-0.1438328 , -0.0934385 ],\n",
       "       [-0.43263012, -0.0239963 ],\n",
       "       [-0.31789035, -0.09878547],\n",
       "       [-0.3361568 , -0.11391699],\n",
       "       [-0.34456825, -0.09408826],\n",
       "       [-0.35895646, -0.07605562],\n",
       "       [-0.1552571 , -0.03539839],\n",
       "       [-0.4205957 , -0.10726071],\n",
       "       [-0.41406855, -0.06374758],\n",
       "       [-0.31738517, -0.0697618 ],\n",
       "       [-0.2849394 , -0.08440856],\n",
       "       [-0.40988865, -0.13032983],\n",
       "       [-0.3769213 , -0.00961696],\n",
       "       [-0.42028588, -0.07117199],\n",
       "       [-0.32862067, -0.06246494],\n",
       "       [-0.25064927, -0.01563811],\n",
       "       [-0.39389396, -0.14363001],\n",
       "       [-0.23669674, -0.05915816],\n",
       "       [-0.42775577, -0.07406863],\n",
       "       [-0.34827784, -0.11288461],\n",
       "       [-0.3356941 , -0.06893051],\n",
       "       [-0.19971052, -0.16995306],\n",
       "       [-0.26011485, -0.10284337],\n",
       "       [-0.451687  , -0.11166731],\n",
       "       [-0.27643842, -0.2024991 ],\n",
       "       [-0.25493774, -0.1650905 ],\n",
       "       [-0.29794097, -0.14333136],\n",
       "       [-0.1927656 , -0.14589249],\n",
       "       [-0.23118481, -0.18542828],\n",
       "       [-0.29719245, -0.08076019],\n",
       "       [-0.4330119 , -0.09442485],\n",
       "       [-0.43516928, -0.0939656 ],\n",
       "       [-0.42405915, -0.02559648],\n",
       "       [-0.392472  , -0.06175659],\n",
       "       [-0.4140009 , -0.07891022],\n",
       "       [-0.31960243, -0.01493504],\n",
       "       [-0.3602492 , -0.07217745],\n",
       "       [-0.21134263, -0.06566   ],\n",
       "       [-0.24520227, -0.10780082],\n",
       "       [-0.45010108, -0.07842042],\n",
       "       [-0.38714194, -0.0600886 ],\n",
       "       [-0.42225346, -0.09326939],\n",
       "       [-0.3609978 , -0.12640475],\n",
       "       [-0.40095678, -0.1140277 ],\n",
       "       [-0.35183173, -0.072271  ],\n",
       "       [-0.41164064, -0.133291  ],\n",
       "       [-0.38696244, -0.07714078],\n",
       "       [-0.33697492, -0.07829391],\n",
       "       [-0.34500617, -0.0657284 ],\n",
       "       [-0.33167416, -0.06791433],\n",
       "       [-0.4737011 , -0.14252195],\n",
       "       [-0.35546434, -0.06342158],\n",
       "       [-0.40296108, -0.08775041],\n",
       "       [-0.18710911, -0.13610372],\n",
       "       [-0.32633752, -0.07933948],\n",
       "       [-0.22401449, -0.11878339],\n",
       "       [-0.37640688, -0.04784308],\n",
       "       [-0.42280036, -0.08090146],\n",
       "       [-0.40739936, -0.04626444],\n",
       "       [-0.2909933 , -0.15445076],\n",
       "       [-0.3628325 , -0.07914373],\n",
       "       [-0.3907931 , -0.06613795],\n",
       "       [-0.42561442, -0.14115459],\n",
       "       [-0.3917193 ,  0.00899112],\n",
       "       [-0.39848632, -0.06577385],\n",
       "       [-0.36617035, -0.04464205],\n",
       "       [-0.3570461 , -0.01567715],\n",
       "       [-0.17383015, -0.09746352],\n",
       "       [-0.39808226, -0.1275503 ],\n",
       "       [-0.3720072 , -0.06225059],\n",
       "       [-0.43331665, -0.049906  ],\n",
       "       [-0.40623707, -0.12054391],\n",
       "       [-0.15064803, -0.0210213 ],\n",
       "       [-0.41484398, -0.1152733 ],\n",
       "       [-0.45700634, -0.09235728],\n",
       "       [-0.36286354, -0.15052545],\n",
       "       [-0.4037127 , -0.10036527],\n",
       "       [-0.4011659 , -0.04036346],\n",
       "       [-0.43660608, -0.10069456],\n",
       "       [-0.3564629 , -0.05880771],\n",
       "       [-0.3835692 , -0.04984474],\n",
       "       [-0.35964295, -0.11798805],\n",
       "       [-0.4011659 , -0.04036346],\n",
       "       [-0.37897652, -0.03333404],\n",
       "       [-0.44359112, -0.06312484],\n",
       "       [-0.43562275, -0.04178768],\n",
       "       [-0.36600295, -0.13782789],\n",
       "       [-0.3412998 , -0.09039686],\n",
       "       [-0.48572287, -0.07330938],\n",
       "       [-0.31765598, -0.13342835],\n",
       "       [-0.42194957, -0.02625957],\n",
       "       [-0.41530266, -0.05317786],\n",
       "       [-0.24740855, -0.12793772],\n",
       "       [-0.3138826 , -0.04788978],\n",
       "       [-0.26402104, -0.09606739],\n",
       "       [-0.43930462, -0.00217701],\n",
       "       [-0.37868506, -0.05851164],\n",
       "       [-0.40528268, -0.07677471],\n",
       "       [-0.19318438, -0.06970426],\n",
       "       [-0.3530609 , -0.06092844],\n",
       "       [-0.27698052, -0.09596932],\n",
       "       [-0.21851325, -0.06705064],\n",
       "       [-0.36790207, -0.08887802],\n",
       "       [-0.24466878, -0.10328034],\n",
       "       [-0.32508647, -0.05638796],\n",
       "       [-0.32246065, -0.09126089],\n",
       "       [-0.36171305, -0.10054079],\n",
       "       [-0.329335  , -0.0593247 ],\n",
       "       [-0.36924273, -0.13581172],\n",
       "       [-0.260127  , -0.08898212],\n",
       "       [-0.47456005, -0.08207186],\n",
       "       [-0.39118412, -0.04301321],\n",
       "       [-0.45981514, -0.06230388],\n",
       "       [-0.46857235, -0.10848258],\n",
       "       [-0.214008  , -0.11894945],\n",
       "       [-0.3910119 , -0.06375869],\n",
       "       [-0.31208175, -0.15869614],\n",
       "       [-0.3787545 , -0.03442747],\n",
       "       [-0.12109869, -0.07634251],\n",
       "       [-0.11922516, -0.10572484],\n",
       "       [-0.3089345 , -0.14906086],\n",
       "       [-0.26974913, -0.08213148],\n",
       "       [-0.39231768, -0.06857526],\n",
       "       [-0.3738426 , -0.0922027 ],\n",
       "       [-0.41805652, -0.1257789 ],\n",
       "       [-0.24503589, -0.13771088],\n",
       "       [-0.33703917, -0.09419324],\n",
       "       [-0.29886416, -0.08541951],\n",
       "       [-0.36237997, -0.07734216],\n",
       "       [-0.42645606, -0.05783496],\n",
       "       [-0.22561823, -0.04477553],\n",
       "       [-0.21327779, -0.03157379]], dtype=float32)"
      ]
     },
     "execution_count": 32,
     "metadata": {},
     "output_type": "execute_result"
    }
   ],
   "source": [
    "val_prediciton.predictions"
   ]
  },
  {
   "cell_type": "code",
   "execution_count": null,
   "metadata": {},
   "outputs": [],
   "source": []
  }
 ],
 "metadata": {
  "kernelspec": {
   "display_name": "nlp",
   "language": "python",
   "name": "nlp"
  },
  "language_info": {
   "codemirror_mode": {
    "name": "ipython",
    "version": 3
   },
   "file_extension": ".py",
   "mimetype": "text/x-python",
   "name": "python",
   "nbconvert_exporter": "python",
   "pygments_lexer": "ipython3",
   "version": "3.7.2"
  }
 },
 "nbformat": 4,
 "nbformat_minor": 2
}
